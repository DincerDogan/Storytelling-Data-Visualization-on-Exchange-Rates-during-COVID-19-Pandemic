{
 "cells": [
  {
   "cell_type": "markdown",
   "id": "cb38f36f",
   "metadata": {},
   "source": [
    "# Storytelling Data Visualization on Exchange Rates during COVID-19 Pandemic\n",
    "## Introduction\n",
    "- In this project, we'll analyze the exchange rate between the euro and [other strong currencies](https://www.thetealmango.com/featured/strongest-currencies-in-the-world/): US Dollar/USD, British Pound/GBP, Swiss Franc/CHF and Australian Dollar/AUD. \n",
    "- In addition, we'll focus on the period of the COVID-19 pandemic (2020-2022) to discuss how these rates behave during this time. \n",
    "- Our goal is to visualize the impact of the pandemic, and possible devaluations and recoveries.\n"
   ]
  },
  {
   "cell_type": "markdown",
   "id": "853d77a2",
   "metadata": {},
   "source": [
    "## Introducing the Data\n",
    "- The dataset describes the euro daily exchange rates between 1999 and 2022, and its source is the European Central Bank. The data is frequently updated and we can be downloaded [here](https://www.kaggle.com/lsind18/euro-exchange-daily-rates-19992020). We will use one version downloaded on January 2022."
   ]
  },
  {
   "cell_type": "code",
   "execution_count": 1,
   "id": "9b05ca66",
   "metadata": {},
   "outputs": [],
   "source": [
    "# importing the libraries\n",
    "import pandas as pd\n",
    "import numpy as np\n",
    "import matplotlib.pyplot as plt\n",
    "%matplotlib inline\n",
    "import matplotlib.style as style\n",
    "import seaborn as sns"
   ]
  },
  {
   "cell_type": "code",
   "execution_count": 2,
   "id": "f8ec9139",
   "metadata": {},
   "outputs": [],
   "source": [
    "# importing the dataset\n",
    "exchange_rates = pd.read_csv('euro-daily-hist_1999_2022.csv')"
   ]
  },
  {
   "cell_type": "code",
   "execution_count": 3,
   "id": "abda661c",
   "metadata": {},
   "outputs": [
    {
     "data": {
      "text/html": [
       "<div>\n",
       "<style scoped>\n",
       "    .dataframe tbody tr th:only-of-type {\n",
       "        vertical-align: middle;\n",
       "    }\n",
       "\n",
       "    .dataframe tbody tr th {\n",
       "        vertical-align: top;\n",
       "    }\n",
       "\n",
       "    .dataframe thead th {\n",
       "        text-align: right;\n",
       "    }\n",
       "</style>\n",
       "<table border=\"1\" class=\"dataframe\">\n",
       "  <thead>\n",
       "    <tr style=\"text-align: right;\">\n",
       "      <th></th>\n",
       "      <th>Period\\Unit:</th>\n",
       "      <th>[Australian dollar ]</th>\n",
       "      <th>[Bulgarian lev ]</th>\n",
       "      <th>[Brazilian real ]</th>\n",
       "      <th>[Canadian dollar ]</th>\n",
       "      <th>[Swiss franc ]</th>\n",
       "      <th>[Chinese yuan renminbi ]</th>\n",
       "      <th>[Cypriot pound ]</th>\n",
       "      <th>[Czech koruna ]</th>\n",
       "      <th>[Danish krone ]</th>\n",
       "      <th>...</th>\n",
       "      <th>[Romanian leu ]</th>\n",
       "      <th>[Russian rouble ]</th>\n",
       "      <th>[Swedish krona ]</th>\n",
       "      <th>[Singapore dollar ]</th>\n",
       "      <th>[Slovenian tolar ]</th>\n",
       "      <th>[Slovak koruna ]</th>\n",
       "      <th>[Thai baht ]</th>\n",
       "      <th>[Turkish lira ]</th>\n",
       "      <th>[US dollar ]</th>\n",
       "      <th>[South African rand ]</th>\n",
       "    </tr>\n",
       "  </thead>\n",
       "  <tbody>\n",
       "    <tr>\n",
       "      <th>0</th>\n",
       "      <td>2022-01-10</td>\n",
       "      <td>1.5774</td>\n",
       "      <td>1.9558</td>\n",
       "      <td>6.3969</td>\n",
       "      <td>1.4327</td>\n",
       "      <td>1.0446</td>\n",
       "      <td>7.2128</td>\n",
       "      <td>NaN</td>\n",
       "      <td>24.357</td>\n",
       "      <td>7.4381</td>\n",
       "      <td>...</td>\n",
       "      <td>4.9449</td>\n",
       "      <td>84.9825</td>\n",
       "      <td>10.3038</td>\n",
       "      <td>1.5344</td>\n",
       "      <td>NaN</td>\n",
       "      <td>NaN</td>\n",
       "      <td>38.0740</td>\n",
       "      <td>15.7183</td>\n",
       "      <td>1.1318</td>\n",
       "      <td>17.6999</td>\n",
       "    </tr>\n",
       "    <tr>\n",
       "      <th>1</th>\n",
       "      <td>2022-01-07</td>\n",
       "      <td>1.5804</td>\n",
       "      <td>1.9558</td>\n",
       "      <td>6.4343</td>\n",
       "      <td>1.4374</td>\n",
       "      <td>1.0422</td>\n",
       "      <td>7.2060</td>\n",
       "      <td>NaN</td>\n",
       "      <td>24.439</td>\n",
       "      <td>7.4380</td>\n",
       "      <td>...</td>\n",
       "      <td>4.9451</td>\n",
       "      <td>85.2980</td>\n",
       "      <td>10.2839</td>\n",
       "      <td>1.5356</td>\n",
       "      <td>NaN</td>\n",
       "      <td>NaN</td>\n",
       "      <td>38.0740</td>\n",
       "      <td>15.7206</td>\n",
       "      <td>1.1298</td>\n",
       "      <td>17.6701</td>\n",
       "    </tr>\n",
       "    <tr>\n",
       "      <th>2</th>\n",
       "      <td>2022-01-06</td>\n",
       "      <td>1.5778</td>\n",
       "      <td>1.9558</td>\n",
       "      <td>6.4420</td>\n",
       "      <td>1.4451</td>\n",
       "      <td>1.0395</td>\n",
       "      <td>7.2187</td>\n",
       "      <td>NaN</td>\n",
       "      <td>24.528</td>\n",
       "      <td>7.4393</td>\n",
       "      <td>...</td>\n",
       "      <td>4.9435</td>\n",
       "      <td>86.5088</td>\n",
       "      <td>10.3265</td>\n",
       "      <td>1.5388</td>\n",
       "      <td>NaN</td>\n",
       "      <td>NaN</td>\n",
       "      <td>37.9620</td>\n",
       "      <td>15.5504</td>\n",
       "      <td>1.1315</td>\n",
       "      <td>17.7932</td>\n",
       "    </tr>\n",
       "    <tr>\n",
       "      <th>3</th>\n",
       "      <td>2022-01-05</td>\n",
       "      <td>1.5600</td>\n",
       "      <td>1.9558</td>\n",
       "      <td>6.4146</td>\n",
       "      <td>1.4399</td>\n",
       "      <td>1.0364</td>\n",
       "      <td>7.2087</td>\n",
       "      <td>NaN</td>\n",
       "      <td>24.581</td>\n",
       "      <td>7.4384</td>\n",
       "      <td>...</td>\n",
       "      <td>4.9460</td>\n",
       "      <td>85.7275</td>\n",
       "      <td>10.2545</td>\n",
       "      <td>1.5340</td>\n",
       "      <td>NaN</td>\n",
       "      <td>NaN</td>\n",
       "      <td>37.6070</td>\n",
       "      <td>15.2446</td>\n",
       "      <td>1.1319</td>\n",
       "      <td>17.9369</td>\n",
       "    </tr>\n",
       "    <tr>\n",
       "      <th>4</th>\n",
       "      <td>2022-01-04</td>\n",
       "      <td>1.5682</td>\n",
       "      <td>1.9558</td>\n",
       "      <td>6.4174</td>\n",
       "      <td>1.4382</td>\n",
       "      <td>1.0355</td>\n",
       "      <td>7.1924</td>\n",
       "      <td>NaN</td>\n",
       "      <td>24.745</td>\n",
       "      <td>7.4378</td>\n",
       "      <td>...</td>\n",
       "      <td>4.9481</td>\n",
       "      <td>84.9202</td>\n",
       "      <td>10.2808</td>\n",
       "      <td>1.5310</td>\n",
       "      <td>NaN</td>\n",
       "      <td>NaN</td>\n",
       "      <td>37.5820</td>\n",
       "      <td>15.1384</td>\n",
       "      <td>1.1279</td>\n",
       "      <td>18.1080</td>\n",
       "    </tr>\n",
       "  </tbody>\n",
       "</table>\n",
       "<p>5 rows × 41 columns</p>\n",
       "</div>"
      ],
      "text/plain": [
       "  Period\\Unit: [Australian dollar ] [Bulgarian lev ] [Brazilian real ]  \\\n",
       "0   2022-01-10               1.5774           1.9558            6.3969   \n",
       "1   2022-01-07               1.5804           1.9558            6.4343   \n",
       "2   2022-01-06               1.5778           1.9558            6.4420   \n",
       "3   2022-01-05               1.5600           1.9558            6.4146   \n",
       "4   2022-01-04               1.5682           1.9558            6.4174   \n",
       "\n",
       "  [Canadian dollar ] [Swiss franc ] [Chinese yuan renminbi ] [Cypriot pound ]  \\\n",
       "0             1.4327         1.0446                   7.2128              NaN   \n",
       "1             1.4374         1.0422                   7.2060              NaN   \n",
       "2             1.4451         1.0395                   7.2187              NaN   \n",
       "3             1.4399         1.0364                   7.2087              NaN   \n",
       "4             1.4382         1.0355                   7.1924              NaN   \n",
       "\n",
       "  [Czech koruna ] [Danish krone ]  ... [Romanian leu ] [Russian rouble ]  \\\n",
       "0          24.357          7.4381  ...          4.9449           84.9825   \n",
       "1          24.439          7.4380  ...          4.9451           85.2980   \n",
       "2          24.528          7.4393  ...          4.9435           86.5088   \n",
       "3          24.581          7.4384  ...          4.9460           85.7275   \n",
       "4          24.745          7.4378  ...          4.9481           84.9202   \n",
       "\n",
       "  [Swedish krona ] [Singapore dollar ] [Slovenian tolar ] [Slovak koruna ]  \\\n",
       "0          10.3038              1.5344                NaN              NaN   \n",
       "1          10.2839              1.5356                NaN              NaN   \n",
       "2          10.3265              1.5388                NaN              NaN   \n",
       "3          10.2545              1.5340                NaN              NaN   \n",
       "4          10.2808              1.5310                NaN              NaN   \n",
       "\n",
       "  [Thai baht ] [Turkish lira ] [US dollar ]  [South African rand ]  \n",
       "0      38.0740         15.7183       1.1318                17.6999  \n",
       "1      38.0740         15.7206       1.1298                17.6701  \n",
       "2      37.9620         15.5504       1.1315                17.7932  \n",
       "3      37.6070         15.2446       1.1319                17.9369  \n",
       "4      37.5820         15.1384       1.1279                18.1080  \n",
       "\n",
       "[5 rows x 41 columns]"
      ]
     },
     "execution_count": 3,
     "metadata": {},
     "output_type": "execute_result"
    }
   ],
   "source": [
    "# Knowing the dataset\n",
    "exchange_rates.head()"
   ]
  },
  {
   "cell_type": "code",
   "execution_count": 4,
   "id": "cfc5003f",
   "metadata": {},
   "outputs": [
    {
     "name": "stdout",
     "output_type": "stream",
     "text": [
      "<class 'pandas.core.frame.DataFrame'>\n",
      "RangeIndex: 5958 entries, 0 to 5957\n",
      "Data columns (total 41 columns):\n",
      " #   Column                    Non-Null Count  Dtype  \n",
      "---  ------                    --------------  -----  \n",
      " 0   Period\\Unit:              5958 non-null   object \n",
      " 1   [Australian dollar ]      5958 non-null   object \n",
      " 2   [Bulgarian lev ]          5556 non-null   object \n",
      " 3   [Brazilian real ]         5690 non-null   object \n",
      " 4   [Canadian dollar ]        5958 non-null   object \n",
      " 5   [Swiss franc ]            5958 non-null   object \n",
      " 6   [Chinese yuan renminbi ]  5690 non-null   object \n",
      " 7   [Cypriot pound ]          2346 non-null   object \n",
      " 8   [Czech koruna ]           5958 non-null   object \n",
      " 9   [Danish krone ]           5958 non-null   object \n",
      " 10  [Estonian kroon ]         3130 non-null   object \n",
      " 11  [UK pound sterling ]      5958 non-null   object \n",
      " 12  [Greek drachma ]          520 non-null    object \n",
      " 13  [Hong Kong dollar ]       5958 non-null   object \n",
      " 14  [Croatian kuna ]          5690 non-null   object \n",
      " 15  [Hungarian forint ]       5958 non-null   object \n",
      " 16  [Indonesian rupiah ]      5958 non-null   object \n",
      " 17  [Israeli shekel ]         5690 non-null   object \n",
      " 18  [Indian rupee ]           5690 non-null   object \n",
      " 19  [Iceland krona ]          3551 non-null   float64\n",
      " 20  [Japanese yen ]           5958 non-null   object \n",
      " 21  [Korean won ]             5958 non-null   object \n",
      " 22  [Lithuanian litas ]       4159 non-null   object \n",
      " 23  [Latvian lats ]           3904 non-null   object \n",
      " 24  [Maltese lira ]           2346 non-null   object \n",
      " 25  [Mexican peso ]           5958 non-null   object \n",
      " 26  [Malaysian ringgit ]      5958 non-null   object \n",
      " 27  [Norwegian krone ]        5958 non-null   object \n",
      " 28  [New Zealand dollar ]     5958 non-null   object \n",
      " 29  [Philippine peso ]        5958 non-null   object \n",
      " 30  [Polish zloty ]           5958 non-null   object \n",
      " 31  [Romanian leu ]           5896 non-null   float64\n",
      " 32  [Russian rouble ]         5958 non-null   object \n",
      " 33  [Swedish krona ]          5958 non-null   object \n",
      " 34  [Singapore dollar ]       5958 non-null   object \n",
      " 35  [Slovenian tolar ]        2085 non-null   object \n",
      " 36  [Slovak koruna ]          2608 non-null   object \n",
      " 37  [Thai baht ]              5958 non-null   object \n",
      " 38  [Turkish lira ]           5896 non-null   float64\n",
      " 39  [US dollar ]              5958 non-null   object \n",
      " 40  [South African rand ]     5958 non-null   object \n",
      "dtypes: float64(3), object(38)\n",
      "memory usage: 1.9+ MB\n"
     ]
    }
   ],
   "source": [
    "exchange_rates.info()"
   ]
  },
  {
   "cell_type": "markdown",
   "id": "d7e35cad",
   "metadata": {},
   "source": [
    "## Cleaning the Data"
   ]
  },
  {
   "cell_type": "code",
   "execution_count": 5,
   "id": "8b8810e6",
   "metadata": {},
   "outputs": [],
   "source": [
    "# Changing columns names\n",
    "exchange_rates.rename(columns = {'[US dollar ]': 'US_dollar', 'Period\\\\Unit:': 'Time', '[Australian dollar ]': 'AUS_dollar', '[Swiss franc ]': 'Swiss_franc', '[UK pound sterling ]': 'UK_pound'},\n",
    "                     inplace = True)"
   ]
  },
  {
   "cell_type": "code",
   "execution_count": 6,
   "id": "30764151",
   "metadata": {},
   "outputs": [
    {
     "name": "stdout",
     "output_type": "stream",
     "text": [
      "<class 'pandas.core.frame.DataFrame'>\n",
      "RangeIndex: 5958 entries, 0 to 5957\n",
      "Data columns (total 41 columns):\n",
      " #   Column                    Non-Null Count  Dtype         \n",
      "---  ------                    --------------  -----         \n",
      " 0   Time                      5958 non-null   datetime64[ns]\n",
      " 1   AUS_dollar                5958 non-null   object        \n",
      " 2   [Bulgarian lev ]          5556 non-null   object        \n",
      " 3   [Brazilian real ]         5690 non-null   object        \n",
      " 4   [Canadian dollar ]        5958 non-null   object        \n",
      " 5   Swiss_franc               5958 non-null   object        \n",
      " 6   [Chinese yuan renminbi ]  5690 non-null   object        \n",
      " 7   [Cypriot pound ]          2346 non-null   object        \n",
      " 8   [Czech koruna ]           5958 non-null   object        \n",
      " 9   [Danish krone ]           5958 non-null   object        \n",
      " 10  [Estonian kroon ]         3130 non-null   object        \n",
      " 11  UK_pound                  5958 non-null   object        \n",
      " 12  [Greek drachma ]          520 non-null    object        \n",
      " 13  [Hong Kong dollar ]       5958 non-null   object        \n",
      " 14  [Croatian kuna ]          5690 non-null   object        \n",
      " 15  [Hungarian forint ]       5958 non-null   object        \n",
      " 16  [Indonesian rupiah ]      5958 non-null   object        \n",
      " 17  [Israeli shekel ]         5690 non-null   object        \n",
      " 18  [Indian rupee ]           5690 non-null   object        \n",
      " 19  [Iceland krona ]          3551 non-null   float64       \n",
      " 20  [Japanese yen ]           5958 non-null   object        \n",
      " 21  [Korean won ]             5958 non-null   object        \n",
      " 22  [Lithuanian litas ]       4159 non-null   object        \n",
      " 23  [Latvian lats ]           3904 non-null   object        \n",
      " 24  [Maltese lira ]           2346 non-null   object        \n",
      " 25  [Mexican peso ]           5958 non-null   object        \n",
      " 26  [Malaysian ringgit ]      5958 non-null   object        \n",
      " 27  [Norwegian krone ]        5958 non-null   object        \n",
      " 28  [New Zealand dollar ]     5958 non-null   object        \n",
      " 29  [Philippine peso ]        5958 non-null   object        \n",
      " 30  [Polish zloty ]           5958 non-null   object        \n",
      " 31  [Romanian leu ]           5896 non-null   float64       \n",
      " 32  [Russian rouble ]         5958 non-null   object        \n",
      " 33  [Swedish krona ]          5958 non-null   object        \n",
      " 34  [Singapore dollar ]       5958 non-null   object        \n",
      " 35  [Slovenian tolar ]        2085 non-null   object        \n",
      " 36  [Slovak koruna ]          2608 non-null   object        \n",
      " 37  [Thai baht ]              5958 non-null   object        \n",
      " 38  [Turkish lira ]           5896 non-null   float64       \n",
      " 39  US_dollar                 5958 non-null   object        \n",
      " 40  [South African rand ]     5958 non-null   object        \n",
      "dtypes: datetime64[ns](1), float64(3), object(37)\n",
      "memory usage: 1.9+ MB\n"
     ]
    }
   ],
   "source": [
    "# Changing Time column\n",
    "exchange_rates['Time'] = pd.to_datetime(exchange_rates['Time'])\n",
    "exchange_rates.sort_values('Time', inplace = True)\n",
    "exchange_rates.reset_index(drop = True, inplace = True)\n",
    "exchange_rates.info()"
   ]
  },
  {
   "cell_type": "code",
   "execution_count": 7,
   "id": "fb58bd86",
   "metadata": {},
   "outputs": [],
   "source": [
    "# Selecting the currencies\n",
    "euro_to_USdollar=exchange_rates.copy()[[\"Time\", \"US_dollar\"]]\n",
    "\n",
    "euro_to_UKpound=exchange_rates.copy()[[\"Time\", \"UK_pound\"]]\n",
    "\n",
    "euro_to_AUSdollar=exchange_rates.copy()[[\"Time\", \"AUS_dollar\"]]\n",
    "\n",
    "euro_to_SwissF=exchange_rates.copy()[[\"Time\", \"Swiss_franc\"]]"
   ]
  },
  {
   "cell_type": "code",
   "execution_count": 8,
   "id": "dae25ed5",
   "metadata": {},
   "outputs": [
    {
     "data": {
      "text/plain": [
       "-         62\n",
       "1.2276     9\n",
       "1.1215     8\n",
       "1.1305     7\n",
       "1.2143     6\n",
       "          ..\n",
       "1.3196     1\n",
       "0.9009     1\n",
       "1.3255     1\n",
       "0.8917     1\n",
       "1.1334     1\n",
       "Name: US_dollar, Length: 3592, dtype: int64"
      ]
     },
     "execution_count": 8,
     "metadata": {},
     "output_type": "execute_result"
    }
   ],
   "source": [
    "# Inspecting value_counts\n",
    "euro_to_USdollar[\"US_dollar\"].value_counts()"
   ]
  },
  {
   "cell_type": "code",
   "execution_count": 9,
   "id": "bbb4b354",
   "metadata": {},
   "outputs": [],
   "source": [
    "# Excluding \"-\"\n",
    "euro_to_USdollar=euro_to_USdollar[euro_to_USdollar[\"US_dollar\"]!=\"-\"]"
   ]
  },
  {
   "cell_type": "code",
   "execution_count": 10,
   "id": "bc244673",
   "metadata": {},
   "outputs": [
    {
     "name": "stdout",
     "output_type": "stream",
     "text": [
      "<class 'pandas.core.frame.DataFrame'>\n",
      "Int64Index: 5896 entries, 0 to 5957\n",
      "Data columns (total 2 columns):\n",
      " #   Column     Non-Null Count  Dtype         \n",
      "---  ------     --------------  -----         \n",
      " 0   Time       5896 non-null   datetime64[ns]\n",
      " 1   US_dollar  5896 non-null   float64       \n",
      "dtypes: datetime64[ns](1), float64(1)\n",
      "memory usage: 138.2 KB\n"
     ]
    }
   ],
   "source": [
    "# Transforming into float type\n",
    "euro_to_USdollar.loc[:,\"US_dollar\"]=euro_to_USdollar.loc[:,\"US_dollar\"].astype(float)\n",
    "euro_to_USdollar.info()"
   ]
  },
  {
   "cell_type": "code",
   "execution_count": 11,
   "id": "09350bac",
   "metadata": {},
   "outputs": [
    {
     "data": {
      "text/plain": [
       "-          62\n",
       "0.87750     7\n",
       "0.67930     7\n",
       "0.68880     7\n",
       "0.90430     7\n",
       "           ..\n",
       "0.82215     1\n",
       "0.82750     1\n",
       "0.84535     1\n",
       "0.83945     1\n",
       "0.83593     1\n",
       "Name: UK_pound, Length: 3609, dtype: int64"
      ]
     },
     "execution_count": 11,
     "metadata": {},
     "output_type": "execute_result"
    }
   ],
   "source": [
    "# Inspecting value_counts\n",
    "euro_to_UKpound[\"UK_pound\"].value_counts()"
   ]
  },
  {
   "cell_type": "code",
   "execution_count": 12,
   "id": "c138881d",
   "metadata": {},
   "outputs": [],
   "source": [
    "# Excluding \"-\"\n",
    "euro_to_UKpound=euro_to_UKpound[euro_to_UKpound[\"UK_pound\"]!=\"-\"]"
   ]
  },
  {
   "cell_type": "code",
   "execution_count": 13,
   "id": "a4a9499e",
   "metadata": {},
   "outputs": [
    {
     "name": "stdout",
     "output_type": "stream",
     "text": [
      "<class 'pandas.core.frame.DataFrame'>\n",
      "Int64Index: 5896 entries, 0 to 5957\n",
      "Data columns (total 2 columns):\n",
      " #   Column    Non-Null Count  Dtype         \n",
      "---  ------    --------------  -----         \n",
      " 0   Time      5896 non-null   datetime64[ns]\n",
      " 1   UK_pound  5896 non-null   float64       \n",
      "dtypes: datetime64[ns](1), float64(1)\n",
      "memory usage: 138.2 KB\n"
     ]
    }
   ],
   "source": [
    "# Transforming into float type\n",
    "euro_to_UKpound.loc[:,\"UK_pound\"]=euro_to_UKpound.loc[:,\"UK_pound\"].astype(float)\n",
    "euro_to_UKpound.info()"
   ]
  },
  {
   "cell_type": "code",
   "execution_count": 14,
   "id": "fa421906",
   "metadata": {},
   "outputs": [
    {
     "data": {
      "text/plain": [
       "-         62\n",
       "1.6242     8\n",
       "1.5781     8\n",
       "1.6194     7\n",
       "1.5840     7\n",
       "          ..\n",
       "1.9587     1\n",
       "1.9679     1\n",
       "1.9624     1\n",
       "1.9840     1\n",
       "1.5600     1\n",
       "Name: AUS_dollar, Length: 3535, dtype: int64"
      ]
     },
     "execution_count": 14,
     "metadata": {},
     "output_type": "execute_result"
    }
   ],
   "source": [
    "# Inspecting value_counts\n",
    "euro_to_AUSdollar[\"AUS_dollar\"].value_counts()"
   ]
  },
  {
   "cell_type": "code",
   "execution_count": 15,
   "id": "26e10b3a",
   "metadata": {},
   "outputs": [],
   "source": [
    "# Excluding \"-\"\n",
    "euro_to_AUSdollar=euro_to_AUSdollar[euro_to_AUSdollar[\"AUS_dollar\"]!=\"-\"]"
   ]
  },
  {
   "cell_type": "code",
   "execution_count": 16,
   "id": "a61cd64b",
   "metadata": {},
   "outputs": [
    {
     "name": "stdout",
     "output_type": "stream",
     "text": [
      "<class 'pandas.core.frame.DataFrame'>\n",
      "Int64Index: 5896 entries, 0 to 5957\n",
      "Data columns (total 2 columns):\n",
      " #   Column      Non-Null Count  Dtype         \n",
      "---  ------      --------------  -----         \n",
      " 0   Time        5896 non-null   datetime64[ns]\n",
      " 1   AUS_dollar  5896 non-null   float64       \n",
      "dtypes: datetime64[ns](1), float64(1)\n",
      "memory usage: 138.2 KB\n"
     ]
    }
   ],
   "source": [
    "# Transforming into float type\n",
    "euro_to_AUSdollar.loc[:,\"AUS_dollar\"]=euro_to_AUSdollar.loc[:,\"AUS_dollar\"].astype(float)\n",
    "euro_to_AUSdollar.info()"
   ]
  },
  {
   "cell_type": "code",
   "execution_count": 17,
   "id": "76f3342a",
   "metadata": {},
   "outputs": [
    {
     "data": {
      "text/plain": [
       "-         62\n",
       "1.2010    45\n",
       "1.2011    13\n",
       "1.2009    13\n",
       "1.2014    10\n",
       "          ..\n",
       "1.4511     1\n",
       "1.4516     1\n",
       "1.4527     1\n",
       "1.4638     1\n",
       "1.0395     1\n",
       "Name: Swiss_franc, Length: 2980, dtype: int64"
      ]
     },
     "execution_count": 17,
     "metadata": {},
     "output_type": "execute_result"
    }
   ],
   "source": [
    "# Inspecting value_counts\n",
    "euro_to_SwissF[\"Swiss_franc\"].value_counts()"
   ]
  },
  {
   "cell_type": "code",
   "execution_count": 18,
   "id": "f5afc5ba",
   "metadata": {},
   "outputs": [],
   "source": [
    "# Excluding \"-\"\n",
    "euro_to_SwissF=euro_to_SwissF[euro_to_SwissF[\"Swiss_franc\"]!=\"-\"]"
   ]
  },
  {
   "cell_type": "code",
   "execution_count": 19,
   "id": "f7e26f38",
   "metadata": {},
   "outputs": [
    {
     "name": "stdout",
     "output_type": "stream",
     "text": [
      "<class 'pandas.core.frame.DataFrame'>\n",
      "Int64Index: 5896 entries, 0 to 5957\n",
      "Data columns (total 2 columns):\n",
      " #   Column       Non-Null Count  Dtype         \n",
      "---  ------       --------------  -----         \n",
      " 0   Time         5896 non-null   datetime64[ns]\n",
      " 1   Swiss_franc  5896 non-null   float64       \n",
      "dtypes: datetime64[ns](1), float64(1)\n",
      "memory usage: 138.2 KB\n"
     ]
    }
   ],
   "source": [
    "# Transforming into float type\n",
    "euro_to_SwissF.loc[:,\"Swiss_franc\"]=euro_to_SwissF.loc[:,\"Swiss_franc\"].astype(float)\n",
    "euro_to_SwissF.info()"
   ]
  },
  {
   "cell_type": "markdown",
   "id": "b2a5812f",
   "metadata": {},
   "source": [
    "## Exploratory Data Analysis (EDA)\n",
    "- Many factors can [influence currency exchange rates](https://canamcurrencyexchange.com/9-factors-that-influence-currency-exchange-rates/), like inflation, interest rates and economic health. Some historical facts had a huge impact on several of these aspects and can modify the exchange rates, for example, the global financial crisis in 2008. \n",
    "- On this project, we want to analyse the COVID-19 pandemic impact, that started in 2020 and we are still facing this problem in 2022.\n",
    "- To start visualizing our data, we'll look at the exchange rates between the Euro and the other currencies in the whole time period of the dataset (1999-2022) and the exchange rates in the pandemic period (2020-2022). Our graph of the pandemic period will start in 2019 to get a better observation of how it was the exchange rates right before the COVID-19."
   ]
  },
  {
   "cell_type": "markdown",
   "id": "cb9c8040",
   "metadata": {},
   "source": [
    "### 1. Euro to US Dollar:"
   ]
  },
  {
   "cell_type": "code",
   "execution_count": 20,
   "id": "7fe729a1",
   "metadata": {},
   "outputs": [
    {
     "data": {
      "text/html": [
       "<div>\n",
       "<style scoped>\n",
       "    .dataframe tbody tr th:only-of-type {\n",
       "        vertical-align: middle;\n",
       "    }\n",
       "\n",
       "    .dataframe tbody tr th {\n",
       "        vertical-align: top;\n",
       "    }\n",
       "\n",
       "    .dataframe thead th {\n",
       "        text-align: right;\n",
       "    }\n",
       "</style>\n",
       "<table border=\"1\" class=\"dataframe\">\n",
       "  <thead>\n",
       "    <tr style=\"text-align: right;\">\n",
       "      <th></th>\n",
       "      <th>Time</th>\n",
       "      <th>US_dollar</th>\n",
       "    </tr>\n",
       "  </thead>\n",
       "  <tbody>\n",
       "    <tr>\n",
       "      <th>473</th>\n",
       "      <td>2000-10-26</td>\n",
       "      <td>0.8252</td>\n",
       "    </tr>\n",
       "  </tbody>\n",
       "</table>\n",
       "</div>"
      ],
      "text/plain": [
       "          Time  US_dollar\n",
       "473 2000-10-26     0.8252"
      ]
     },
     "execution_count": 20,
     "metadata": {},
     "output_type": "execute_result"
    }
   ],
   "source": [
    "# Minimum value\n",
    "euro_to_USdollar[euro_to_USdollar['US_dollar'] == euro_to_USdollar['US_dollar'].min()]"
   ]
  },
  {
   "cell_type": "code",
   "execution_count": 21,
   "id": "961cc206",
   "metadata": {},
   "outputs": [
    {
     "data": {
      "text/html": [
       "<div>\n",
       "<style scoped>\n",
       "    .dataframe tbody tr th:only-of-type {\n",
       "        vertical-align: middle;\n",
       "    }\n",
       "\n",
       "    .dataframe tbody tr th {\n",
       "        vertical-align: top;\n",
       "    }\n",
       "\n",
       "    .dataframe thead th {\n",
       "        text-align: right;\n",
       "    }\n",
       "</style>\n",
       "<table border=\"1\" class=\"dataframe\">\n",
       "  <thead>\n",
       "    <tr style=\"text-align: right;\">\n",
       "      <th></th>\n",
       "      <th>Time</th>\n",
       "      <th>US_dollar</th>\n",
       "    </tr>\n",
       "  </thead>\n",
       "  <tbody>\n",
       "    <tr>\n",
       "      <th>2486</th>\n",
       "      <td>2008-07-15</td>\n",
       "      <td>1.599</td>\n",
       "    </tr>\n",
       "  </tbody>\n",
       "</table>\n",
       "</div>"
      ],
      "text/plain": [
       "           Time  US_dollar\n",
       "2486 2008-07-15      1.599"
      ]
     },
     "execution_count": 21,
     "metadata": {},
     "output_type": "execute_result"
    }
   ],
   "source": [
    "# Maximum value\n",
    "euro_to_USdollar[euro_to_USdollar['US_dollar'] == euro_to_USdollar['US_dollar'].max()]"
   ]
  },
  {
   "cell_type": "code",
   "execution_count": 22,
   "id": "9b1bd00b",
   "metadata": {},
   "outputs": [
    {
     "data": {
      "text/plain": [
       "1.1988673677069202"
      ]
     },
     "execution_count": 22,
     "metadata": {},
     "output_type": "execute_result"
    }
   ],
   "source": [
    "# Mean\n",
    "euro_to_USdollar['US_dollar'].mean()"
   ]
  },
  {
   "cell_type": "code",
   "execution_count": 23,
   "id": "c44e4e56",
   "metadata": {},
   "outputs": [],
   "source": [
    "# Using rolling mean (moving average) to smooth the graph line\n",
    "euro_to_USdollar['rolling_mean'] = euro_to_USdollar['US_dollar'].rolling(30).mean()"
   ]
  },
  {
   "cell_type": "code",
   "execution_count": 24,
   "id": "7a6b0315",
   "metadata": {},
   "outputs": [
    {
     "data": {
      "image/png": "[encoded data removed]",
      "text/plain": [
       "<Figure size 432x288 with 1 Axes>"
      ]
     },
     "metadata": {
      "needs_background": "light"
     },
     "output_type": "display_data"
    }
   ],
   "source": [
    "# Graph of the whole period\n",
    "plt.plot(euro_to_USdollar['Time'], euro_to_USdollar['rolling_mean'])\n",
    "plt.axhline(y=euro_to_USdollar['US_dollar'].mean(), color='red')\n",
    "plt.show()"
   ]
  },
  {
   "cell_type": "code",
   "execution_count": 25,
   "id": "ee58dc04",
   "metadata": {},
   "outputs": [],
   "source": [
    "# Slicing the 2019-2022 period\n",
    "euro_to_USdollar_19=euro_to_USdollar.copy()[euro_to_USdollar['Time'].dt.year >= 2019]"
   ]
  },
  {
   "cell_type": "code",
   "execution_count": 26,
   "id": "09fab7bd",
   "metadata": {},
   "outputs": [
    {
     "data": {
      "text/html": [
       "<div>\n",
       "<style scoped>\n",
       "    .dataframe tbody tr th:only-of-type {\n",
       "        vertical-align: middle;\n",
       "    }\n",
       "\n",
       "    .dataframe tbody tr th {\n",
       "        vertical-align: top;\n",
       "    }\n",
       "\n",
       "    .dataframe thead th {\n",
       "        text-align: right;\n",
       "    }\n",
       "</style>\n",
       "<table border=\"1\" class=\"dataframe\">\n",
       "  <thead>\n",
       "    <tr style=\"text-align: right;\">\n",
       "      <th></th>\n",
       "      <th>Time</th>\n",
       "      <th>US_dollar</th>\n",
       "      <th>rolling_mean</th>\n",
       "    </tr>\n",
       "  </thead>\n",
       "  <tbody>\n",
       "    <tr>\n",
       "      <th>5493</th>\n",
       "      <td>2020-03-20</td>\n",
       "      <td>1.0707</td>\n",
       "      <td>1.09995</td>\n",
       "    </tr>\n",
       "  </tbody>\n",
       "</table>\n",
       "</div>"
      ],
      "text/plain": [
       "           Time  US_dollar  rolling_mean\n",
       "5493 2020-03-20     1.0707       1.09995"
      ]
     },
     "execution_count": 26,
     "metadata": {},
     "output_type": "execute_result"
    }
   ],
   "source": [
    "# Minimum value\n",
    "euro_to_USdollar_19[euro_to_USdollar_19['US_dollar'] == euro_to_USdollar_19['US_dollar'].min()]"
   ]
  },
  {
   "cell_type": "code",
   "execution_count": 27,
   "id": "6a57180a",
   "metadata": {},
   "outputs": [
    {
     "data": {
      "text/html": [
       "<div>\n",
       "<style scoped>\n",
       "    .dataframe tbody tr th:only-of-type {\n",
       "        vertical-align: middle;\n",
       "    }\n",
       "\n",
       "    .dataframe tbody tr th {\n",
       "        vertical-align: top;\n",
       "    }\n",
       "\n",
       "    .dataframe thead th {\n",
       "        text-align: right;\n",
       "    }\n",
       "</style>\n",
       "<table border=\"1\" class=\"dataframe\">\n",
       "  <thead>\n",
       "    <tr style=\"text-align: right;\">\n",
       "      <th></th>\n",
       "      <th>Time</th>\n",
       "      <th>US_dollar</th>\n",
       "      <th>rolling_mean</th>\n",
       "    </tr>\n",
       "  </thead>\n",
       "  <tbody>\n",
       "    <tr>\n",
       "      <th>5696</th>\n",
       "      <td>2021-01-06</td>\n",
       "      <td>1.2338</td>\n",
       "      <td>1.213987</td>\n",
       "    </tr>\n",
       "  </tbody>\n",
       "</table>\n",
       "</div>"
      ],
      "text/plain": [
       "           Time  US_dollar  rolling_mean\n",
       "5696 2021-01-06     1.2338      1.213987"
      ]
     },
     "execution_count": 27,
     "metadata": {},
     "output_type": "execute_result"
    }
   ],
   "source": [
    "# Maximum value\n",
    "euro_to_USdollar_19[euro_to_USdollar_19['US_dollar'] == euro_to_USdollar_19['US_dollar'].max()]"
   ]
  },
  {
   "cell_type": "code",
   "execution_count": 28,
   "id": "d06bb165",
   "metadata": {},
   "outputs": [
    {
     "data": {
      "image/png": "[encoded data removed]",
      "text/plain": [
       "<Figure size 432x288 with 1 Axes>"
      ]
     },
     "metadata": {
      "needs_background": "light"
     },
     "output_type": "display_data"
    }
   ],
   "source": [
    "# Graph of the 2019-2022 period\n",
    "plt.plot(euro_to_USdollar_19['Time'],  euro_to_USdollar_19['US_dollar'])\n",
    "plt.xticks(rotation=30)\n",
    "plt.show()"
   ]
  },
  {
   "cell_type": "markdown",
   "id": "8a0718b7",
   "metadata": {},
   "source": [
    "- Looking the first ghaph, we can observe the varations during the whole time period. We can see that from the end of 2003, the euro starts to cost more than one US dollar, and keeps this way until today.\n",
    "- The Maximum value the Euro gets over the US dollar is 1.599 in July of 2008. And the Minimum value is 0.8252 in October of 2000. The range between both currencies is 0.7738.\n",
    "- Comparing the both graphics, we can see that in the beginning of 2020 the exchange rate keeps decreasing (but since 2019 is decreasing) and it reaches the minimum value for this period (2019-2022) in March of 2020, with the value of 1.0707. It keeps rising until January of 2021, with the value of 1.2338.\n",
    "- Despite the pandemic, the exchange rate is still above 1 and it's not far from the mean (1.1988), the range in this period was 0.1631."
   ]
  },
  {
   "cell_type": "markdown",
   "id": "dc381494",
   "metadata": {},
   "source": [
    "### 2. Euro to UK Pound"
   ]
  },
  {
   "cell_type": "code",
   "execution_count": 29,
   "id": "54a4fb6b",
   "metadata": {},
   "outputs": [
    {
     "data": {
      "text/html": [
       "<div>\n",
       "<style scoped>\n",
       "    .dataframe tbody tr th:only-of-type {\n",
       "        vertical-align: middle;\n",
       "    }\n",
       "\n",
       "    .dataframe tbody tr th {\n",
       "        vertical-align: top;\n",
       "    }\n",
       "\n",
       "    .dataframe thead th {\n",
       "        text-align: right;\n",
       "    }\n",
       "</style>\n",
       "<table border=\"1\" class=\"dataframe\">\n",
       "  <thead>\n",
       "    <tr style=\"text-align: right;\">\n",
       "      <th></th>\n",
       "      <th>Time</th>\n",
       "      <th>UK_pound</th>\n",
       "    </tr>\n",
       "  </thead>\n",
       "  <tbody>\n",
       "    <tr>\n",
       "      <th>347</th>\n",
       "      <td>2000-05-03</td>\n",
       "      <td>0.5711</td>\n",
       "    </tr>\n",
       "  </tbody>\n",
       "</table>\n",
       "</div>"
      ],
      "text/plain": [
       "          Time  UK_pound\n",
       "347 2000-05-03    0.5711"
      ]
     },
     "execution_count": 29,
     "metadata": {},
     "output_type": "execute_result"
    }
   ],
   "source": [
    "# Minimum value\n",
    "euro_to_UKpound[euro_to_UKpound['UK_pound'] == euro_to_UKpound['UK_pound'].min()]"
   ]
  },
  {
   "cell_type": "code",
   "execution_count": 30,
   "id": "b928eec8",
   "metadata": {},
   "outputs": [
    {
     "data": {
      "text/html": [
       "<div>\n",
       "<style scoped>\n",
       "    .dataframe tbody tr th:only-of-type {\n",
       "        vertical-align: middle;\n",
       "    }\n",
       "\n",
       "    .dataframe tbody tr th {\n",
       "        vertical-align: top;\n",
       "    }\n",
       "\n",
       "    .dataframe thead th {\n",
       "        text-align: right;\n",
       "    }\n",
       "</style>\n",
       "<table border=\"1\" class=\"dataframe\">\n",
       "  <thead>\n",
       "    <tr style=\"text-align: right;\">\n",
       "      <th></th>\n",
       "      <th>Time</th>\n",
       "      <th>UK_pound</th>\n",
       "    </tr>\n",
       "  </thead>\n",
       "  <tbody>\n",
       "    <tr>\n",
       "      <th>2605</th>\n",
       "      <td>2008-12-29</td>\n",
       "      <td>0.97855</td>\n",
       "    </tr>\n",
       "  </tbody>\n",
       "</table>\n",
       "</div>"
      ],
      "text/plain": [
       "           Time  UK_pound\n",
       "2605 2008-12-29   0.97855"
      ]
     },
     "execution_count": 30,
     "metadata": {},
     "output_type": "execute_result"
    }
   ],
   "source": [
    "# Maximum value\n",
    "euro_to_UKpound[euro_to_UKpound['UK_pound'] == euro_to_UKpound['UK_pound'].max()]"
   ]
  },
  {
   "cell_type": "code",
   "execution_count": 31,
   "id": "4f369176",
   "metadata": {},
   "outputs": [
    {
     "data": {
      "text/plain": [
       "0.7719652798507461"
      ]
     },
     "execution_count": 31,
     "metadata": {},
     "output_type": "execute_result"
    }
   ],
   "source": [
    "# Mean\n",
    "euro_to_UKpound['UK_pound'].mean()"
   ]
  },
  {
   "cell_type": "code",
   "execution_count": 32,
   "id": "8df30f16",
   "metadata": {},
   "outputs": [],
   "source": [
    "# Using rolling mean (moving average) to smooth the graph line\n",
    "euro_to_UKpound['rolling_mean'] = euro_to_UKpound['UK_pound'].rolling(30).mean()"
   ]
  },
  {
   "cell_type": "code",
   "execution_count": 33,
   "id": "4f2babc3",
   "metadata": {},
   "outputs": [
    {
     "data": {
      "image/png": "[encoded data removed]",
      "text/plain": [
       "<Figure size 432x288 with 1 Axes>"
      ]
     },
     "metadata": {
      "needs_background": "light"
     },
     "output_type": "display_data"
    }
   ],
   "source": [
    "# Graph of the whole period\n",
    "plt.plot(euro_to_UKpound['Time'], euro_to_UKpound['rolling_mean'])\n",
    "plt.axhline(y=euro_to_UKpound['UK_pound'].mean(), color='red')\n",
    "plt.show()"
   ]
  },
  {
   "cell_type": "code",
   "execution_count": 34,
   "id": "19ea09f2",
   "metadata": {},
   "outputs": [],
   "source": [
    "# Slicing the 2019-2022 period\n",
    "euro_to_UKpound_19=euro_to_UKpound.copy()[euro_to_UKpound['Time'].dt.year >= 2019]"
   ]
  },
  {
   "cell_type": "code",
   "execution_count": 35,
   "id": "ee1a6bda",
   "metadata": {},
   "outputs": [
    {
     "data": {
      "text/html": [
       "<div>\n",
       "<style scoped>\n",
       "    .dataframe tbody tr th:only-of-type {\n",
       "        vertical-align: middle;\n",
       "    }\n",
       "\n",
       "    .dataframe tbody tr th {\n",
       "        vertical-align: top;\n",
       "    }\n",
       "\n",
       "    .dataframe thead th {\n",
       "        text-align: right;\n",
       "    }\n",
       "</style>\n",
       "<table border=\"1\" class=\"dataframe\">\n",
       "  <thead>\n",
       "    <tr style=\"text-align: right;\">\n",
       "      <th></th>\n",
       "      <th>Time</th>\n",
       "      <th>UK_pound</th>\n",
       "      <th>rolling_mean</th>\n",
       "    </tr>\n",
       "  </thead>\n",
       "  <tbody>\n",
       "    <tr>\n",
       "      <th>5470</th>\n",
       "      <td>2020-02-18</td>\n",
       "      <td>0.82985</td>\n",
       "      <td>0.845843</td>\n",
       "    </tr>\n",
       "  </tbody>\n",
       "</table>\n",
       "</div>"
      ],
      "text/plain": [
       "           Time  UK_pound  rolling_mean\n",
       "5470 2020-02-18   0.82985      0.845843"
      ]
     },
     "execution_count": 35,
     "metadata": {},
     "output_type": "execute_result"
    }
   ],
   "source": [
    "# Minimum value\n",
    "euro_to_UKpound_19[euro_to_UKpound_19['UK_pound'] == euro_to_UKpound_19['UK_pound'].min()]"
   ]
  },
  {
   "cell_type": "code",
   "execution_count": 36,
   "id": "b8416865",
   "metadata": {},
   "outputs": [
    {
     "data": {
      "text/html": [
       "<div>\n",
       "<style scoped>\n",
       "    .dataframe tbody tr th:only-of-type {\n",
       "        vertical-align: middle;\n",
       "    }\n",
       "\n",
       "    .dataframe tbody tr th {\n",
       "        vertical-align: top;\n",
       "    }\n",
       "\n",
       "    .dataframe thead th {\n",
       "        text-align: right;\n",
       "    }\n",
       "</style>\n",
       "<table border=\"1\" class=\"dataframe\">\n",
       "  <thead>\n",
       "    <tr style=\"text-align: right;\">\n",
       "      <th></th>\n",
       "      <th>Time</th>\n",
       "      <th>UK_pound</th>\n",
       "      <th>rolling_mean</th>\n",
       "    </tr>\n",
       "  </thead>\n",
       "  <tbody>\n",
       "    <tr>\n",
       "      <th>5492</th>\n",
       "      <td>2020-03-19</td>\n",
       "      <td>0.92985</td>\n",
       "      <td>0.861611</td>\n",
       "    </tr>\n",
       "  </tbody>\n",
       "</table>\n",
       "</div>"
      ],
      "text/plain": [
       "           Time  UK_pound  rolling_mean\n",
       "5492 2020-03-19   0.92985      0.861611"
      ]
     },
     "execution_count": 36,
     "metadata": {},
     "output_type": "execute_result"
    }
   ],
   "source": [
    "# Maximum value\n",
    "euro_to_UKpound_19[euro_to_UKpound_19['UK_pound'] == euro_to_UKpound_19['UK_pound'].max()]"
   ]
  },
  {
   "cell_type": "code",
   "execution_count": 37,
   "id": "d2973eeb",
   "metadata": {},
   "outputs": [
    {
     "data": {
      "image/png": "[encoded data removed]",
      "text/plain": [
       "<Figure size 432x288 with 1 Axes>"
      ]
     },
     "metadata": {
      "needs_background": "light"
     },
     "output_type": "display_data"
    }
   ],
   "source": [
    "# Graph of the 2019-2022 period\n",
    "plt.plot(euro_to_UKpound_19['Time'],  euro_to_UKpound_19['UK_pound'])\n",
    "plt.xticks(rotation=30)\n",
    "plt.show()"
   ]
  },
  {
   "cell_type": "markdown",
   "id": "39ff71c6",
   "metadata": {},
   "source": [
    "- Looking the first ghaph, we can observe the varations during the whole time period. We can see that in the year of 2008, the euro rise and it keeps above the mean (0.7719), except in 2016.\n",
    "- The Maximum value the Euro gets over the UK pound is 0.97855 in December of 2008. And the Minimum value is 0.5711 in May of 2000. The range between both currencies is 0.401.\n",
    "- Comparing the both graphics, we can see that in the beginning of 2020 the exchange rate keeps the same pattern of 2019 and it reaches the minimum value for this period (2019-2022) in February of 2020, with the value of 0.82985. The maximum is reached just one month later, in March of 2020, with the value of 0.92985. \n",
    "- Despite the pandemic, the range between the maximum and the minimum value in this period is just 0.1."
   ]
  },
  {
   "cell_type": "markdown",
   "id": "93a9f2bf",
   "metadata": {},
   "source": [
    "### 3. Euro to Australian Dollar"
   ]
  },
  {
   "cell_type": "code",
   "execution_count": 38,
   "id": "10e4d365",
   "metadata": {},
   "outputs": [
    {
     "data": {
      "text/html": [
       "<div>\n",
       "<style scoped>\n",
       "    .dataframe tbody tr th:only-of-type {\n",
       "        vertical-align: middle;\n",
       "    }\n",
       "\n",
       "    .dataframe tbody tr th {\n",
       "        vertical-align: top;\n",
       "    }\n",
       "\n",
       "    .dataframe thead th {\n",
       "        text-align: right;\n",
       "    }\n",
       "</style>\n",
       "<table border=\"1\" class=\"dataframe\">\n",
       "  <thead>\n",
       "    <tr style=\"text-align: right;\">\n",
       "      <th></th>\n",
       "      <th>Time</th>\n",
       "      <th>AUS_dollar</th>\n",
       "    </tr>\n",
       "  </thead>\n",
       "  <tbody>\n",
       "    <tr>\n",
       "      <th>3548</th>\n",
       "      <td>2012-08-09</td>\n",
       "      <td>1.1639</td>\n",
       "    </tr>\n",
       "  </tbody>\n",
       "</table>\n",
       "</div>"
      ],
      "text/plain": [
       "           Time  AUS_dollar\n",
       "3548 2012-08-09      1.1639"
      ]
     },
     "execution_count": 38,
     "metadata": {},
     "output_type": "execute_result"
    }
   ],
   "source": [
    "# Minimum value\n",
    "euro_to_AUSdollar[euro_to_AUSdollar['AUS_dollar'] == euro_to_AUSdollar['AUS_dollar'].min()]"
   ]
  },
  {
   "cell_type": "code",
   "execution_count": 39,
   "id": "c580090d",
   "metadata": {},
   "outputs": [
    {
     "data": {
      "text/html": [
       "<div>\n",
       "<style scoped>\n",
       "    .dataframe tbody tr th:only-of-type {\n",
       "        vertical-align: middle;\n",
       "    }\n",
       "\n",
       "    .dataframe tbody tr th {\n",
       "        vertical-align: top;\n",
       "    }\n",
       "\n",
       "    .dataframe thead th {\n",
       "        text-align: right;\n",
       "    }\n",
       "</style>\n",
       "<table border=\"1\" class=\"dataframe\">\n",
       "  <thead>\n",
       "    <tr style=\"text-align: right;\">\n",
       "      <th></th>\n",
       "      <th>Time</th>\n",
       "      <th>AUS_dollar</th>\n",
       "    </tr>\n",
       "  </thead>\n",
       "  <tbody>\n",
       "    <tr>\n",
       "      <th>2598</th>\n",
       "      <td>2008-12-18</td>\n",
       "      <td>2.0735</td>\n",
       "    </tr>\n",
       "  </tbody>\n",
       "</table>\n",
       "</div>"
      ],
      "text/plain": [
       "           Time  AUS_dollar\n",
       "2598 2008-12-18      2.0735"
      ]
     },
     "execution_count": 39,
     "metadata": {},
     "output_type": "execute_result"
    }
   ],
   "source": [
    "# Maximum value\n",
    "euro_to_AUSdollar[euro_to_AUSdollar['AUS_dollar'] == euro_to_AUSdollar['AUS_dollar'].max()]"
   ]
  },
  {
   "cell_type": "code",
   "execution_count": 40,
   "id": "71db5b7e",
   "metadata": {},
   "outputs": [
    {
     "data": {
      "text/plain": [
       "1.5794035956580732"
      ]
     },
     "execution_count": 40,
     "metadata": {},
     "output_type": "execute_result"
    }
   ],
   "source": [
    "# Mean\n",
    "euro_to_AUSdollar['AUS_dollar'].mean()"
   ]
  },
  {
   "cell_type": "code",
   "execution_count": 41,
   "id": "040f4868",
   "metadata": {},
   "outputs": [],
   "source": [
    "# Using rolling mean (moving average) to smooth the graph line\n",
    "euro_to_AUSdollar['rolling_mean'] = euro_to_AUSdollar['AUS_dollar'].rolling(30).mean()"
   ]
  },
  {
   "cell_type": "code",
   "execution_count": 42,
   "id": "99f25047",
   "metadata": {},
   "outputs": [
    {
     "data": {
      "image/png": "[encoded data removed]",
      "text/plain": [
       "<Figure size 432x288 with 1 Axes>"
      ]
     },
     "metadata": {
      "needs_background": "light"
     },
     "output_type": "display_data"
    }
   ],
   "source": [
    "# Graph of the whole period\n",
    "plt.plot(euro_to_AUSdollar['Time'], euro_to_AUSdollar['rolling_mean'])\n",
    "plt.axhline(y=euro_to_AUSdollar['AUS_dollar'].mean(), color='red')\n",
    "plt.show()"
   ]
  },
  {
   "cell_type": "code",
   "execution_count": 43,
   "id": "cde647a6",
   "metadata": {},
   "outputs": [],
   "source": [
    "# Slicing the 2019-2022 period\n",
    "euro_to_AUSdollar_19=euro_to_AUSdollar.copy()[euro_to_AUSdollar['Time'].dt.year >= 2019]"
   ]
  },
  {
   "cell_type": "code",
   "execution_count": 44,
   "id": "3f96b845",
   "metadata": {},
   "outputs": [
    {
     "data": {
      "text/html": [
       "<div>\n",
       "<style scoped>\n",
       "    .dataframe tbody tr th:only-of-type {\n",
       "        vertical-align: middle;\n",
       "    }\n",
       "\n",
       "    .dataframe tbody tr th {\n",
       "        vertical-align: top;\n",
       "    }\n",
       "\n",
       "    .dataframe thead th {\n",
       "        text-align: right;\n",
       "    }\n",
       "</style>\n",
       "<table border=\"1\" class=\"dataframe\">\n",
       "  <thead>\n",
       "    <tr style=\"text-align: right;\">\n",
       "      <th></th>\n",
       "      <th>Time</th>\n",
       "      <th>AUS_dollar</th>\n",
       "      <th>rolling_mean</th>\n",
       "    </tr>\n",
       "  </thead>\n",
       "  <tbody>\n",
       "    <tr>\n",
       "      <th>5732</th>\n",
       "      <td>2021-02-25</td>\n",
       "      <td>1.5317</td>\n",
       "      <td>1.565337</td>\n",
       "    </tr>\n",
       "  </tbody>\n",
       "</table>\n",
       "</div>"
      ],
      "text/plain": [
       "           Time  AUS_dollar  rolling_mean\n",
       "5732 2021-02-25      1.5317      1.565337"
      ]
     },
     "execution_count": 44,
     "metadata": {},
     "output_type": "execute_result"
    }
   ],
   "source": [
    "# Minimum value\n",
    "euro_to_AUSdollar_19[euro_to_AUSdollar_19['AUS_dollar'] == euro_to_AUSdollar_19['AUS_dollar'].min()]"
   ]
  },
  {
   "cell_type": "code",
   "execution_count": 45,
   "id": "7c1932ef",
   "metadata": {},
   "outputs": [
    {
     "data": {
      "text/html": [
       "<div>\n",
       "<style scoped>\n",
       "    .dataframe tbody tr th:only-of-type {\n",
       "        vertical-align: middle;\n",
       "    }\n",
       "\n",
       "    .dataframe tbody tr th {\n",
       "        vertical-align: top;\n",
       "    }\n",
       "\n",
       "    .dataframe thead th {\n",
       "        text-align: right;\n",
       "    }\n",
       "</style>\n",
       "<table border=\"1\" class=\"dataframe\">\n",
       "  <thead>\n",
       "    <tr style=\"text-align: right;\">\n",
       "      <th></th>\n",
       "      <th>Time</th>\n",
       "      <th>AUS_dollar</th>\n",
       "      <th>rolling_mean</th>\n",
       "    </tr>\n",
       "  </thead>\n",
       "  <tbody>\n",
       "    <tr>\n",
       "      <th>5492</th>\n",
       "      <td>2020-03-19</td>\n",
       "      <td>1.8635</td>\n",
       "      <td>1.691467</td>\n",
       "    </tr>\n",
       "  </tbody>\n",
       "</table>\n",
       "</div>"
      ],
      "text/plain": [
       "           Time  AUS_dollar  rolling_mean\n",
       "5492 2020-03-19      1.8635      1.691467"
      ]
     },
     "execution_count": 45,
     "metadata": {},
     "output_type": "execute_result"
    }
   ],
   "source": [
    "# Maximum value\n",
    "euro_to_AUSdollar_19[euro_to_AUSdollar_19['AUS_dollar'] == euro_to_AUSdollar_19['AUS_dollar'].max()]"
   ]
  },
  {
   "cell_type": "code",
   "execution_count": 46,
   "id": "49fcbd6c",
   "metadata": {},
   "outputs": [
    {
     "data": {
      "image/png": "[encoded data removed]",
      "text/plain": [
       "<Figure size 432x288 with 1 Axes>"
      ]
     },
     "metadata": {
      "needs_background": "light"
     },
     "output_type": "display_data"
    }
   ],
   "source": [
    "# Graph of the 2019-2022 period\n",
    "plt.plot(euro_to_AUSdollar_19['Time'],  euro_to_AUSdollar_19['AUS_dollar'])\n",
    "plt.xticks(rotation=30)\n",
    "plt.show()"
   ]
  },
  {
   "cell_type": "markdown",
   "id": "a85e2ee7",
   "metadata": {},
   "source": [
    "- Looking the first ghaph, we can observe the varations during the whole time period. We can see that from 1999 to 2010, the euro more than the average (1.5794), and keeps bellow until 2018.\n",
    "- The Maximum value the Euro gets over the AUS dollar is 2.0735 in December of 2008. And the Minimum value is 1.1639 in August of 2012. The total range is 0.9096.\n",
    "- Comparing the both graphics, we can see that in the beginning of 2020 the exchange rate reaches the maximum value (1.8632) in the month of March, but soon comes back to the range it was since 2019 (between 1.55 and 1.65). The minimum value for this period (2019-2022) occurs in February of 2020, with the value of 1.5317. \n",
    "- Despite the pandemic, the exchange rate keeps near the mean (1.5794), pattern since 2018. The range for this period is 0.3315."
   ]
  },
  {
   "cell_type": "markdown",
   "id": "6f6bde29",
   "metadata": {},
   "source": [
    "### 4. Euro to Swiss Franc"
   ]
  },
  {
   "cell_type": "code",
   "execution_count": 47,
   "id": "7c9769d7",
   "metadata": {},
   "outputs": [
    {
     "data": {
      "text/html": [
       "<div>\n",
       "<style scoped>\n",
       "    .dataframe tbody tr th:only-of-type {\n",
       "        vertical-align: middle;\n",
       "    }\n",
       "\n",
       "    .dataframe tbody tr th {\n",
       "        vertical-align: top;\n",
       "    }\n",
       "\n",
       "    .dataframe thead th {\n",
       "        text-align: right;\n",
       "    }\n",
       "</style>\n",
       "<table border=\"1\" class=\"dataframe\">\n",
       "  <thead>\n",
       "    <tr style=\"text-align: right;\">\n",
       "      <th></th>\n",
       "      <th>Time</th>\n",
       "      <th>Swiss_franc</th>\n",
       "    </tr>\n",
       "  </thead>\n",
       "  <tbody>\n",
       "    <tr>\n",
       "      <th>4174</th>\n",
       "      <td>2015-01-23</td>\n",
       "      <td>0.9816</td>\n",
       "    </tr>\n",
       "  </tbody>\n",
       "</table>\n",
       "</div>"
      ],
      "text/plain": [
       "           Time  Swiss_franc\n",
       "4174 2015-01-23       0.9816"
      ]
     },
     "execution_count": 47,
     "metadata": {},
     "output_type": "execute_result"
    }
   ],
   "source": [
    "# Minimum value\n",
    "euro_to_SwissF[euro_to_SwissF['Swiss_franc'] == euro_to_SwissF['Swiss_franc'].min()]"
   ]
  },
  {
   "cell_type": "code",
   "execution_count": 48,
   "id": "628860ad",
   "metadata": {},
   "outputs": [
    {
     "data": {
      "text/html": [
       "<div>\n",
       "<style scoped>\n",
       "    .dataframe tbody tr th:only-of-type {\n",
       "        vertical-align: middle;\n",
       "    }\n",
       "\n",
       "    .dataframe tbody tr th {\n",
       "        vertical-align: top;\n",
       "    }\n",
       "\n",
       "    .dataframe thead th {\n",
       "        text-align: right;\n",
       "    }\n",
       "</style>\n",
       "<table border=\"1\" class=\"dataframe\">\n",
       "  <thead>\n",
       "    <tr style=\"text-align: right;\">\n",
       "      <th></th>\n",
       "      <th>Time</th>\n",
       "      <th>Swiss_franc</th>\n",
       "    </tr>\n",
       "  </thead>\n",
       "  <tbody>\n",
       "    <tr>\n",
       "      <th>2289</th>\n",
       "      <td>2007-10-12</td>\n",
       "      <td>1.6803</td>\n",
       "    </tr>\n",
       "  </tbody>\n",
       "</table>\n",
       "</div>"
      ],
      "text/plain": [
       "           Time  Swiss_franc\n",
       "2289 2007-10-12       1.6803"
      ]
     },
     "execution_count": 48,
     "metadata": {},
     "output_type": "execute_result"
    }
   ],
   "source": [
    "# Maximum value\n",
    "euro_to_SwissF[euro_to_SwissF['Swiss_franc'] == euro_to_SwissF['Swiss_franc'].max()]"
   ]
  },
  {
   "cell_type": "code",
   "execution_count": 49,
   "id": "bcbe8e16",
   "metadata": {},
   "outputs": [
    {
     "data": {
      "text/plain": [
       "1.3481505766621438"
      ]
     },
     "execution_count": 49,
     "metadata": {},
     "output_type": "execute_result"
    }
   ],
   "source": [
    "# Mean\n",
    "euro_to_SwissF['Swiss_franc'].mean()"
   ]
  },
  {
   "cell_type": "code",
   "execution_count": 50,
   "id": "0fe6b88d",
   "metadata": {},
   "outputs": [],
   "source": [
    "# Using rolling mean (moving average) to smooth the graph line\n",
    "euro_to_SwissF['rolling_mean'] = euro_to_SwissF['Swiss_franc'].rolling(30).mean()"
   ]
  },
  {
   "cell_type": "code",
   "execution_count": 51,
   "id": "350ec4ff",
   "metadata": {},
   "outputs": [
    {
     "data": {
      "image/png": "[encoded data removed]",
      "text/plain": [
       "<Figure size 432x288 with 1 Axes>"
      ]
     },
     "metadata": {
      "needs_background": "light"
     },
     "output_type": "display_data"
    }
   ],
   "source": [
    "# Graph of the whole period\n",
    "plt.plot(euro_to_SwissF['Time'], euro_to_SwissF['rolling_mean'])\n",
    "plt.axhline(y=euro_to_SwissF['Swiss_franc'].mean(), color='red')\n",
    "plt.show()"
   ]
  },
  {
   "cell_type": "code",
   "execution_count": 52,
   "id": "1e1be215",
   "metadata": {},
   "outputs": [],
   "source": [
    "# Slicing the 2019-2022 period\n",
    "euro_to_SwissF_19=euro_to_SwissF.copy()[euro_to_SwissF['Time'].dt.year >= 2019]"
   ]
  },
  {
   "cell_type": "code",
   "execution_count": 53,
   "id": "e17b5b89",
   "metadata": {},
   "outputs": [
    {
     "data": {
      "text/html": [
       "<div>\n",
       "<style scoped>\n",
       "    .dataframe tbody tr th:only-of-type {\n",
       "        vertical-align: middle;\n",
       "    }\n",
       "\n",
       "    .dataframe tbody tr th {\n",
       "        vertical-align: top;\n",
       "    }\n",
       "\n",
       "    .dataframe thead th {\n",
       "        text-align: right;\n",
       "    }\n",
       "</style>\n",
       "<table border=\"1\" class=\"dataframe\">\n",
       "  <thead>\n",
       "    <tr style=\"text-align: right;\">\n",
       "      <th></th>\n",
       "      <th>Time</th>\n",
       "      <th>Swiss_franc</th>\n",
       "      <th>rolling_mean</th>\n",
       "    </tr>\n",
       "  </thead>\n",
       "  <tbody>\n",
       "    <tr>\n",
       "      <th>5951</th>\n",
       "      <td>2021-12-31</td>\n",
       "      <td>1.0331</td>\n",
       "      <td>1.042043</td>\n",
       "    </tr>\n",
       "  </tbody>\n",
       "</table>\n",
       "</div>"
      ],
      "text/plain": [
       "           Time  Swiss_franc  rolling_mean\n",
       "5951 2021-12-31       1.0331      1.042043"
      ]
     },
     "execution_count": 53,
     "metadata": {},
     "output_type": "execute_result"
    }
   ],
   "source": [
    "# Minimum value\n",
    "euro_to_SwissF_19[euro_to_SwissF_19['Swiss_franc'] == euro_to_SwissF_19['Swiss_franc'].min()]"
   ]
  },
  {
   "cell_type": "code",
   "execution_count": 54,
   "id": "7fb16676",
   "metadata": {},
   "outputs": [
    {
     "data": {
      "text/html": [
       "<div>\n",
       "<style scoped>\n",
       "    .dataframe tbody tr th:only-of-type {\n",
       "        vertical-align: middle;\n",
       "    }\n",
       "\n",
       "    .dataframe tbody tr th {\n",
       "        vertical-align: top;\n",
       "    }\n",
       "\n",
       "    .dataframe thead th {\n",
       "        text-align: right;\n",
       "    }\n",
       "</style>\n",
       "<table border=\"1\" class=\"dataframe\">\n",
       "  <thead>\n",
       "    <tr style=\"text-align: right;\">\n",
       "      <th></th>\n",
       "      <th>Time</th>\n",
       "      <th>Swiss_franc</th>\n",
       "      <th>rolling_mean</th>\n",
       "    </tr>\n",
       "  </thead>\n",
       "  <tbody>\n",
       "    <tr>\n",
       "      <th>5259</th>\n",
       "      <td>2019-04-23</td>\n",
       "      <td>1.147</td>\n",
       "      <td>1.129477</td>\n",
       "    </tr>\n",
       "  </tbody>\n",
       "</table>\n",
       "</div>"
      ],
      "text/plain": [
       "           Time  Swiss_franc  rolling_mean\n",
       "5259 2019-04-23        1.147      1.129477"
      ]
     },
     "execution_count": 54,
     "metadata": {},
     "output_type": "execute_result"
    }
   ],
   "source": [
    "# Maximum value\n",
    "euro_to_SwissF_19[euro_to_SwissF_19['Swiss_franc'] == euro_to_SwissF_19['Swiss_franc'].max()]"
   ]
  },
  {
   "cell_type": "code",
   "execution_count": 55,
   "id": "f5265010",
   "metadata": {},
   "outputs": [
    {
     "data": {
      "image/png": "[encoded data removed]",
      "text/plain": [
       "<Figure size 432x288 with 1 Axes>"
      ]
     },
     "metadata": {
      "needs_background": "light"
     },
     "output_type": "display_data"
    }
   ],
   "source": [
    "# Graph of the 2019-2022 period\n",
    "plt.plot(euro_to_SwissF_19['Time'],  euro_to_SwissF_19['Swiss_franc'])\n",
    "plt.xticks(rotation=30)\n",
    "plt.show()"
   ]
  },
  {
   "cell_type": "markdown",
   "id": "3c26d2e5",
   "metadata": {},
   "source": [
    "- Looking the first ghaph, we can that until 2011, the exchange rate is above the mean (1.3481). After reaching the maximum value in October of 2007 (1.6803), it decreased 0.6987 until the minimun value (0.9816), in January of 2015.\n",
    "- Comparing the both graphics, we can see that in April of 2019 (before the pandemic) the exchange reaches its maximum value for the 2019-2022 period. The minimum value is 1.031, reached in December of 2021. \n",
    "- Despite the pandemic, the exchange rate is in the same range since 2015, and for the 2019-2022 period, the difference between the maximum and the minimum value is just 0.116."
   ]
  },
  {
   "cell_type": "markdown",
   "id": "ea600f9f",
   "metadata": {},
   "source": [
    "## Data Visualization"
   ]
  },
  {
   "cell_type": "code",
   "execution_count": 56,
   "id": "43f09205",
   "metadata": {},
   "outputs": [],
   "source": [
    "style.use(\"fivethirtyeight\")"
   ]
  },
  {
   "cell_type": "code",
   "execution_count": 57,
   "id": "9ff050d2",
   "metadata": {},
   "outputs": [],
   "source": [
    "#2016-2019:\n",
    "euro_to_USdollar_16 = euro_to_USdollar.copy()[(euro_to_USdollar['Time'].dt.year >= 2016) & (euro_to_USdollar['Time'].dt.year <= 2019)]\n",
    "euro_to_UKpound_16 = euro_to_UKpound.copy()[(euro_to_UKpound['Time'].dt.year >= 2016) & (euro_to_UKpound['Time'].dt.year <= 2019)]\n",
    "euro_to_AUSdollar_16 = euro_to_AUSdollar.copy()[(euro_to_AUSdollar['Time'].dt.year >= 2016) & (euro_to_AUSdollar['Time'].dt.year <= 2019)]\n",
    "euro_to_SwissF_16 = euro_to_SwissF.copy()[(euro_to_SwissF['Time'].dt.year >= 2016) & (euro_to_SwissF['Time'].dt.year <= 2019)]\n",
    "\n",
    "#2020-2022:\n",
    "euro_to_USdollar_20 =euro_to_USdollar.copy()[(euro_to_USdollar['Time'].dt.year >= 2020) & (euro_to_USdollar['Time'].dt.year <= 2022)]\n",
    "euro_to_UKpound_20 =euro_to_UKpound.copy()[(euro_to_UKpound['Time'].dt.year >= 2020) & (euro_to_UKpound['Time'].dt.year <= 2022)]\n",
    "euro_to_AUSdollar_20 =euro_to_AUSdollar.copy()[(euro_to_AUSdollar['Time'].dt.year >= 2020) & (euro_to_AUSdollar['Time'].dt.year <= 2022)]\n",
    "euro_to_SwissF_20 =euro_to_SwissF.copy()[(euro_to_SwissF['Time'].dt.year >= 2020) & (euro_to_SwissF['Time'].dt.year <= 2022)]"
   ]
  },
  {
   "cell_type": "code",
   "execution_count": 58,
   "id": "0dcd3cee",
   "metadata": {},
   "outputs": [
    {
     "data": {
      "text/plain": [
       "Text(0.05, -0.03, '©Ana Luiza Miranda                                                                              Source: European Central Bank')"
      ]
     },
     "execution_count": 58,
     "metadata": {},
     "output_type": "execute_result"
    },
    {
     "data": {
      "image/png": "[encoded data removed]",
      "text/plain": [
       "<Figure size 1296x648 with 4 Axes>"
      ]
     },
     "metadata": {},
     "output_type": "display_data"
    }
   ],
   "source": [
    "#Create the plot area and structure\n",
    "fig, ((ax1, ax2), (ax3, ax4)) = plt.subplots(\n",
    "                                    ncols=2,\n",
    "                                    nrows=2,\n",
    "                                    figsize=(18, 9))\n",
    "\n",
    "ax1.plot(euro_to_USdollar_16['Time'], euro_to_USdollar_16['rolling_mean'],color='lightblue')\n",
    "ax1.plot(euro_to_USdollar_20['Time'], euro_to_USdollar_20['rolling_mean'],color='green' )\n",
    "ax1.set_ylim(1, 1.3) \n",
    "ax1.set_yticks([1.0,1.1, 1.2,1.3])\n",
    "ax1.set_yticklabels([1.0,1.1, 1.2,1.3])\n",
    "ax1.tick_params(colors='#948484', which='both', labelsize=12)\n",
    "ax1.set_xticklabels([])\n",
    "ax1.yaxis.grid(False)\n",
    "#ax1.set_yticklabels([])\n",
    "ax1.axhline(1.1436,c=\"black\", linewidth=2.5, alpha=0.8)\n",
    "ax1.text(x=16530,y=1.155, s=\"m*=1.14\", size=11)\n",
    "ax1.annotate('Mar-2020', xy=(18400, 1.08), xytext=(18500, 1),\n",
    "            arrowprops=dict(facecolor='black', shrink=0.05),\n",
    "            )\n",
    "ax1.title.set_text('Euro/US Dollar')\n",
    "\n",
    "ax2.plot(euro_to_UKpound_16['Time'], euro_to_UKpound_16['rolling_mean'],color='lightblue')\n",
    "ax2.plot(euro_to_UKpound_20['Time'], euro_to_UKpound_20['rolling_mean'],color='green' )\n",
    "ax2.set_ylim(0.7, 1) \n",
    "ax2.set_yticks([0.7,0.8, 0.9, 1])\n",
    "ax2.set_yticklabels([0.7,0.8, 0.9, 1])\n",
    "ax2.tick_params(colors='#948484', which='both', labelsize=12)\n",
    "ax2.set_xticklabels([])\n",
    "ax2.yaxis.grid(False)\n",
    "#ax2.set_yticklabels([])\n",
    "ax2.axhline(0.8678,c=\"black\", linewidth=2.5, alpha=0.8)\n",
    "ax2.text(x=16530,y=0.875, s=\"m*=0.86\", size=11)\n",
    "ax2.annotate('Mar-2020', xy=(18400, 0.91), xytext=(18500, 1),\n",
    "            arrowprops=dict(facecolor='black', shrink=0.05),\n",
    "            )\n",
    "ax2.title.set_text('Euro/UK Pound')\n",
    "\n",
    "ax3.plot(euro_to_AUSdollar_16['Time'], euro_to_AUSdollar_16['rolling_mean'],color='lightblue')\n",
    "ax3.plot(euro_to_AUSdollar_20['Time'], euro_to_AUSdollar_20['rolling_mean'],color='green' )\n",
    "ax3.set_ylim(1.3, 1.9) \n",
    "ax3.set_yticks([1.3, 1.5, 1.7, 1.9])\n",
    "ax3.set_yticklabels([1.3, 1.5, 1.7, 1.9])\n",
    "ax3.tick_params(colors='#948484', which='both', labelsize=12)\n",
    "ax3.yaxis.grid(False)\n",
    "#ax3.set_yticklabels([])\n",
    "ax3.axhline(1.5637,c=\"black\", linewidth=2.5, alpha=0.8)\n",
    "ax3.text(x=16530,y=1.58, s=\"m*=1.56\", size=11)\n",
    "ax3.annotate('Mar-2020', xy=(18360, 1.77), xytext=(18500, 1.86),\n",
    "            arrowprops=dict(facecolor='black', shrink=0.05),\n",
    "            )\n",
    "ax3.title.set_text('Euro/AUS Dollar')\n",
    "\n",
    "ax4.plot(euro_to_SwissF_16['Time'], euro_to_SwissF_16['rolling_mean'],color='lightblue')\n",
    "ax4.plot(euro_to_SwissF_20['Time'], euro_to_SwissF_20['rolling_mean'],color='green' )\n",
    "ax4.set_ylim(1, 1.2) \n",
    "ax4.set_yticks([1, 1.1, 1.15, 1.2])\n",
    "ax4.set_yticklabels([1, 1.1, 1.15, 1.2])\n",
    "ax4.tick_params(colors='#948484', which='both', labelsize=12)\n",
    "ax4.yaxis.grid(False)\n",
    "#ax4.set_yticklabels([])\n",
    "ax4.axhline(1.1,c=\"black\", linewidth=2.5, alpha=0.8)\n",
    "ax4.text(x=16530,y=1.11, s=\"m*=1.1\", size=11)\n",
    "ax4.annotate('Mar-2020', xy=(18400, 1.05), xytext=(18500, 1),\n",
    "            arrowprops=dict(facecolor='black', shrink=0.05),\n",
    "            )\n",
    "ax4.title.set_text('Euro/Swiss Franc')\n",
    "\n",
    "#Title and subtitle:\n",
    "fig.text(x=0.18,y=1.08,s=\"Despite COVID-19 pandemic, euro remains broadly stable\",size=25, weight=\"bold\")\n",
    "fig.text(x=0.15,y=1.03,s=\"Comparing the exchange rates of four strong currencies, there wasn't big variations\",size=21)\n",
    "fig.text(x=0.28,y=0.98, s=\"(less than 0.3) since the first cases (March, 2020)\",size=21)\n",
    "\n",
    "#r description\n",
    "fig.text(x=0.05,y=0, s=\"*m means the mean for the period (2016-2022)\", size=13)\n",
    "\n",
    "#Foot signature/source of graph:\n",
    "fig.text(x=0.05, y=-0.03,s='©Ana Luiza Miranda' +' '*78 +\"Source: European Central Bank\", backgroundcolor=\"#4d4d4d\", size=13,color=\"#f0f0f0\")"
   ]
  },
  {
   "cell_type": "markdown",
   "id": "d90c62dc",
   "metadata": {
    "tags": []
   },
   "source": [
    "## Conclusion\n",
    "- In this Project, we used the Exchange rate data from the European Central Bank since 1999 until January of 2022.\n",
    "- Our goal was analyse the impact of the COVID-19 in the Exchange rates of the Euro with other strong currencies (US Dollar, UK Pound, AUS Dollar and Swiss Franc). \n",
    "- In the Exploratory Data Analysis section, we analysed the Exchange rate in the whole period of time and in the COVID-19 period (2020-2022). We found that the range of the Exchange rate in this period was short (arround 0.1 for the US Dollar, UK Pound and Swiss Franc and arround 0.3 for the AUS Dollar). Comparing with other historical facts, like the financial crisis in 2008, the Euro was able to mantain a stability.\n",
    "- In the Data Visualization section, we showed a graphic comparing the Exchange rates o four study with the Euro. We highlighted with Green the line of the COVID-19 period (2020-2022) and compared with the mean of the period of 2016-2022 (m*).\n",
    "- For further informations, we recommend the lecture of [this article]( https://www.ecb.europa.eu/pub/ire/html/ecb.ire202106~a058f84c61.en.html#toc10) of the European Central Bank, showing why the international role of the Euro remained broadly stable at a low level over the review period (the article was published in June of 2021)."
   ]
  },
  {
   "cell_type": "markdown",
   "id": "b39c00d1",
   "metadata": {},
   "source": [
    "## Apendix\n",
    "- Auxiliary calculations for the Data Visualization graph"
   ]
  },
  {
   "cell_type": "code",
   "execution_count": 59,
   "id": "90957518",
   "metadata": {},
   "outputs": [
    {
     "data": {
      "text/plain": [
       "1.1436370706416072"
      ]
     },
     "execution_count": 59,
     "metadata": {},
     "output_type": "execute_result"
    }
   ],
   "source": [
    "euro_to_USdollar_g = euro_to_USdollar.copy()[(euro_to_USdollar['Time'].dt.year >= 2016) & (euro_to_USdollar['Time'].dt.year <= 2022)]\n",
    "euro_to_USdollar_g['US_dollar'].mean()"
   ]
  },
  {
   "cell_type": "code",
   "execution_count": 60,
   "id": "f9348320",
   "metadata": {},
   "outputs": [
    {
     "data": {
      "text/plain": [
       "0.8678155865197669"
      ]
     },
     "execution_count": 60,
     "metadata": {},
     "output_type": "execute_result"
    }
   ],
   "source": [
    "euro_to_UKpound_g = euro_to_UKpound.copy()[(euro_to_UKpound['Time'].dt.year >= 2016) & (euro_to_UKpound['Time'].dt.year <= 2022)]\n",
    "euro_to_UKpound_g['UK_pound'].mean()"
   ]
  },
  {
   "cell_type": "code",
   "execution_count": 61,
   "id": "50659d2c",
   "metadata": {},
   "outputs": [
    {
     "data": {
      "text/plain": [
       "1.5637204147764097"
      ]
     },
     "execution_count": 61,
     "metadata": {},
     "output_type": "execute_result"
    }
   ],
   "source": [
    "euro_to_AUSdollar_g = euro_to_AUSdollar.copy()[(euro_to_AUSdollar['Time'].dt.year >= 2016) & (euro_to_AUSdollar['Time'].dt.year <= 2022)]\n",
    "euro_to_AUSdollar_g['AUS_dollar'].mean()"
   ]
  },
  {
   "cell_type": "code",
   "execution_count": 62,
   "id": "6c583232",
   "metadata": {},
   "outputs": [
    {
     "data": {
      "text/plain": [
       "1.1031310434219055"
      ]
     },
     "execution_count": 62,
     "metadata": {},
     "output_type": "execute_result"
    }
   ],
   "source": [
    "euro_to_SwissF_g = euro_to_SwissF.copy()[(euro_to_SwissF['Time'].dt.year >= 2016) & (euro_to_SwissF['Time'].dt.year <= 2022)]\n",
    "euro_to_SwissF_g['Swiss_franc'].mean()"
   ]
  }
 ],
 "metadata": {
  "kernelspec": {
   "display_name": "Python 3 (ipykernel)",
   "language": "python",
   "name": "python3"
  },
  "language_info": {
   "codemirror_mode": {
    "name": "ipython",
    "version": 3
   },
   "file_extension": ".py",
   "mimetype": "text/x-python",
   "name": "python",
   "nbconvert_exporter": "python",
   "pygments_lexer": "ipython3",
   "version": "3.9.7"
  }
 },
 "nbformat": 4,
 "nbformat_minor": 5
}
